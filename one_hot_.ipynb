{
 "cells": [
  {
   "cell_type": "code",
   "execution_count": 156,
   "id": "624153ed",
   "metadata": {},
   "outputs": [],
   "source": [
    "from sklearn.feature_extraction.text import CountVectorizer\n",
    "import seaborn as sns\n",
    "import numpy as np\n",
    "corpus = ['time flies like an arrow',\n",
    "'fruit flies like a banana']"
   ]
  },
  {
   "cell_type": "code",
   "execution_count": 158,
   "id": "d86de69d",
   "metadata": {},
   "outputs": [],
   "source": [
    "array_corp = []\n",
    "for i in range(len(corpus)):\n",
    "    array_corp.append(corpus[i].split(\" \"))"
   ]
  },
  {
   "cell_type": "code",
   "execution_count": 161,
   "id": "e884deaa",
   "metadata": {},
   "outputs": [
    {
     "data": {
      "text/plain": [
       "dict_keys(['time', 'flies', 'like', 'an', 'arrow', 'fruit', 'banana'])"
      ]
     },
     "execution_count": 161,
     "metadata": {},
     "output_type": "execute_result"
    }
   ],
   "source": [
    "cv = CountVectorizer()\n",
    "cv.fit(corpus)\n",
    "dico = cv.vocabulary_\n",
    "keys = dico.keys()\n",
    "keys"
   ]
  },
  {
   "cell_type": "code",
   "execution_count": 163,
   "id": "bbac26b9",
   "metadata": {},
   "outputs": [],
   "source": [
    "vecteur = cv.fit_transform(corpus)"
   ]
  },
  {
   "cell_type": "code",
   "execution_count": 164,
   "id": "0d3e8d41",
   "metadata": {},
   "outputs": [
    {
     "data": {
      "text/plain": [
       "array([[1, 1, 0, 1, 0, 1, 1],\n",
       "       [0, 0, 1, 1, 1, 1, 0]])"
      ]
     },
     "execution_count": 164,
     "metadata": {},
     "output_type": "execute_result"
    }
   ],
   "source": [
    "vecteur.toarray()"
   ]
  },
  {
   "cell_type": "code",
   "execution_count": 167,
   "id": "72226bbf",
   "metadata": {},
   "outputs": [
    {
     "data": {
      "text/html": [
       "<div>\n",
       "<style scoped>\n",
       "    .dataframe tbody tr th:only-of-type {\n",
       "        vertical-align: middle;\n",
       "    }\n",
       "\n",
       "    .dataframe tbody tr th {\n",
       "        vertical-align: top;\n",
       "    }\n",
       "\n",
       "    .dataframe thead th {\n",
       "        text-align: right;\n",
       "    }\n",
       "</style>\n",
       "<table border=\"1\" class=\"dataframe\">\n",
       "  <thead>\n",
       "    <tr style=\"text-align: right;\">\n",
       "      <th></th>\n",
       "      <th>an</th>\n",
       "      <th>arrow</th>\n",
       "      <th>banana</th>\n",
       "      <th>flies</th>\n",
       "      <th>fruit</th>\n",
       "      <th>like</th>\n",
       "      <th>time</th>\n",
       "    </tr>\n",
       "  </thead>\n",
       "  <tbody>\n",
       "    <tr>\n",
       "      <th>Document_0</th>\n",
       "      <td>1</td>\n",
       "      <td>1</td>\n",
       "      <td>0</td>\n",
       "      <td>1</td>\n",
       "      <td>0</td>\n",
       "      <td>1</td>\n",
       "      <td>1</td>\n",
       "    </tr>\n",
       "    <tr>\n",
       "      <th>Document_1</th>\n",
       "      <td>0</td>\n",
       "      <td>0</td>\n",
       "      <td>1</td>\n",
       "      <td>1</td>\n",
       "      <td>1</td>\n",
       "      <td>1</td>\n",
       "      <td>0</td>\n",
       "    </tr>\n",
       "  </tbody>\n",
       "</table>\n",
       "</div>"
      ],
      "text/plain": [
       "            an  arrow  banana  flies  fruit  like  time\n",
       "Document_0   1      1       0      1      0     1     1\n",
       "Document_1   0      0       1      1      1     1     0"
      ]
     },
     "execution_count": 167,
     "metadata": {},
     "output_type": "execute_result"
    }
   ],
   "source": [
    "import pandas as pd\n",
    "pd.DataFrame(vecteur.toarray(), columns=cv.get_feature_names(), index = [f\"Document_{i}\" for i in range(len(corpus))])"
   ]
  },
  {
   "cell_type": "code",
   "execution_count": null,
   "id": "4d161f25",
   "metadata": {},
   "outputs": [],
   "source": []
  }
 ],
 "metadata": {
  "kernelspec": {
   "display_name": "Python 3",
   "language": "python",
   "name": "python3"
  },
  "language_info": {
   "codemirror_mode": {
    "name": "ipython",
    "version": 3
   },
   "file_extension": ".py",
   "mimetype": "text/x-python",
   "name": "python",
   "nbconvert_exporter": "python",
   "pygments_lexer": "ipython3",
   "version": "3.8.8"
  }
 },
 "nbformat": 4,
 "nbformat_minor": 5
}
